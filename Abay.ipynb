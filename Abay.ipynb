{
  "cells": [
    {
      "cell_type": "markdown",
      "metadata": {
        "id": "m8Oy-ekw1L6F"
      },
      "source": []
    },
    {
      "cell_type": "markdown",
      "metadata": {
        "id": "O7uyMc-Q0JIA"
      },
      "source": [
        "**Automatic Evaluation Metrics**"
      ]
    },
    {
      "cell_type": "markdown",
      "metadata": {
        "id": "FD4DZWgQ2OM8"
      },
      "source": [
        "Install library for rouge score"
      ]
    },
    {
      "cell_type": "code",
      "execution_count": 109,
      "metadata": {
        "colab": {
          "base_uri": "https://localhost:8080/"
        },
        "id": "MjrCC8c82Juh",
        "outputId": "261d20e9-54f1-4012-9972-7cdb6f349663"
      },
      "outputs": [
        {
          "name": "stdout",
          "output_type": "stream",
          "text": [
            "Requirement already satisfied: nltk in /usr/local/lib/python3.10/dist-packages (3.9.1)\n",
            "Requirement already satisfied: rouge-score in /usr/local/lib/python3.10/dist-packages (0.1.2)\n",
            "Requirement already satisfied: click in /usr/local/lib/python3.10/dist-packages (from nltk) (8.1.7)\n",
            "Requirement already satisfied: joblib in /usr/local/lib/python3.10/dist-packages (from nltk) (1.4.2)\n",
            "Requirement already satisfied: regex>=2021.8.3 in /usr/local/lib/python3.10/dist-packages (from nltk) (2024.9.11)\n",
            "Requirement already satisfied: tqdm in /usr/local/lib/python3.10/dist-packages (from nltk) (4.66.6)\n",
            "Requirement already satisfied: absl-py in /usr/local/lib/python3.10/dist-packages (from rouge-score) (1.4.0)\n",
            "Requirement already satisfied: numpy in /usr/local/lib/python3.10/dist-packages (from rouge-score) (1.26.4)\n",
            "Requirement already satisfied: six>=1.14.0 in /usr/local/lib/python3.10/dist-packages (from rouge-score) (1.16.0)\n"
          ]
        }
      ],
      "source": [
        "pip install nltk rouge-score"
      ]
    },
    {
      "cell_type": "code",
      "execution_count": 110,
      "metadata": {
        "colab": {
          "base_uri": "https://localhost:8080/"
        },
        "id": "e_ylOnoI0IQn",
        "outputId": "579ce411-5874-4ec8-e03d-c766e84328a1"
      },
      "outputs": [
        {
          "name": "stderr",
          "output_type": "stream",
          "text": [
            "[nltk_data] Downloading package punkt to /root/nltk_data...\n",
            "[nltk_data]   Package punkt is already up-to-date!\n",
            "[nltk_data] Downloading package punkt_tab to /root/nltk_data...\n",
            "[nltk_data]   Package punkt_tab is already up-to-date!\n",
            "[nltk_data] Downloading package wordnet to /root/nltk_data...\n",
            "[nltk_data]   Package wordnet is already up-to-date!\n"
          ]
        },
        {
          "data": {
            "text/plain": [
              "True"
            ]
          },
          "execution_count": 110,
          "metadata": {},
          "output_type": "execute_result"
        }
      ],
      "source": [
        "import nltk\n",
        "from nltk.translate.bleu_score import sentence_bleu, SmoothingFunction\n",
        "from nltk.translate.meteor_score import meteor_score\n",
        "from rouge_score import rouge_scorer\n",
        "\n",
        "nltk.download('punkt')\n",
        "nltk.download('punkt_tab')\n",
        "nltk.download('wordnet')"
      ]
    },
    {
      "cell_type": "markdown",
      "metadata": {
        "id": "I9XVKzqi0KOS"
      },
      "source": [
        "Input the machine translation and reference to compute metrics"
      ]
    },
    {
      "cell_type": "code",
      "execution_count": 111,
      "metadata": {
        "id": "UkNym4q30LsO"
      },
      "outputs": [],
      "source": [
        "machine_translation = [\n",
        "    \"Having lived until this age, whether it was good or bad, we have lived a significant part of our lives: distance, separation, arguments, conflicts - we have come through experiencing these troubles. Now, having reached middle age, we are weary and tired; we have seen the futility and instability of the things we have done, and realized that everything is vanity. So, how should we spend the rest of our lives? I myself am perplexed by this question. To serve the people? No, I have no capacity to serve the people. If those who are already burdened by their own troubles don't serve the people, and if the young and impetuous don't serve the people, then God forbid! To raise livestock? No, I cannot raise livestock. Children will raise themselves according to their needs. Now, in old age, I do not wish to waste my remaining life serving as food for thieves, the cruel, and the beggars, not being able to fully enjoy life. To pursue knowledge? No, there are no people to discuss knowledge with. To whom would you teach what you know, and from whom would you learn what you don't know? What is the use of spreading a mat in an empty place and sitting on it? Since there is no one to share your sorrows with, knowledge itself is a quick aging process. To become a Sufi, to practice religion? No, that won't work either; that requires peace. There is no peace in my heart or in the world I see; what kind of Sufism would that be in this land and in this place? To raise children? No, I cannot. Even if I wanted to, I don't know how to raise them properly; what if I raise them, to which nation or cause would I contribute them? I haven't found a peaceful place where my children can benefit from their life and knowledge; I don't know where to go or what to do, so what should I do? I couldn't even find amusement in that. Finally, I thought: I will just write down these thoughts on paper, I will amuse myself with white paper and black ink. Whoever finds a useful word in it, let them write it down or read it; if they don't need it, then it's my own words, I said, and finally I committed myself to this, and now I have no other work.\"\n",
        "]\n",
        "reference_translation = [\n",
        "    \"Whether for good or ill, I have lived my life, traveling a long road fraught with struggles and quarrels, disputes and arguments, suffering and anxiety, and reached these advanced years to find myself at the end of my tether, tired of everything. I have realized the vanity and futility of my labors and the meanness of my existence. What shall I occupy myself with now and how shall I live out the rest of my days? I am puzzled that I can find no answer to this question. Rule the people? No, the people are ungovernable. Let this burden be shouldered by someone who is willing to contract an incurable malady, or else by an ardent youth with a burning heart. But may Allah spare me this load which is beyond my powers! Shall I multiply the herds? No, I cannot do that. Let the young folk raise livestock if they need them. But I shall not darken the evening of my days by tending livestock to give joy to rogues, thieves and spongers. Occupy myself with learning? But how shall I engage in scholarship when I have no one to exchange an intelligent word with? And then to whom shall I pass on the knowledge I will have amassed? Whom shall I ask what I do not know myself? What's the good of sitting on a desolate steppe with an arshin[1] in hand trying to sell cloth? Too much knowledge becomes gall and wormwood that hastens old age if you have no one by your side to share your joys and sorrows. Choose the path of the Sufi and dedicate myself to the service of religion? No, I'm afraid that won't do either. This vocation calls for serenity and complete peace of mind. But I have not known peace either in my soul or in my life—and what sort of piety can there be amongst these people, in this land! Educate children, maybe? No, this, too, is beyond my powers. I could instruct children, true, but I don't know what I should teach them and how. For what occupation, for what purpose and for what kind of community am I to educate them? How can I instruct them and direct their paths if I don't see where my pupils could usefully apply their learning? And so here, too, I have been unable to put myself to any good use. Well, I have decided at length: henceforth, pen and paper shall be my only solace, and I shall set down my thoughts. Should anyone find something useful here, let him copy it down or memorise it. And if no one has any need of my words, they will remain with me anyway. And now I have no other concern than that.\"\n",
        "]"
      ]
    },
    {
      "cell_type": "markdown",
      "metadata": {
        "id": "4pfMeJEP0Kgg"
      },
      "source": [
        "Calculation of metrics"
      ]
    },
    {
      "cell_type": "code",
      "execution_count": 112,
      "metadata": {
        "id": "JN5LeBn40MO7"
      },
      "outputs": [],
      "source": [
        "scorer = rouge_scorer.RougeScorer(['rouge1', 'rouge2', 'rougeL'], use_stemmer=True)\n",
        "\n",
        "reference_tokens = nltk.word_tokenize(reference_translation[0])\n",
        "machine_tokens = nltk.word_tokenize(machine_translation[0])\n",
        "\n",
        "# BLEU Score\n",
        "bleu_score = sentence_bleu([reference_tokens], machine_tokens, smoothing_function=SmoothingFunction().method1)\n",
        "\n",
        "\n",
        "# METEOR Score\n",
        "meteor = meteor_score([reference_tokens], machine_tokens)\n",
        "\n",
        "# ROUGE Scores\n",
        "rouge = scorer.score(reference_translation[0], machine_translation[0])"
      ]
    },
    {
      "cell_type": "markdown",
      "metadata": {
        "id": "hLpcaekV1EFz"
      },
      "source": [
        "Printing the metrics with analysis"
      ]
    },
    {
      "cell_type": "code",
      "execution_count": 113,
      "metadata": {
        "colab": {
          "base_uri": "https://localhost:8080/"
        },
        "id": "QakNmjTO1EeE",
        "outputId": "32a0c03d-ae40-427f-ccef-7643e011dbae"
      },
      "outputs": [
        {
          "name": "stdout",
          "output_type": "stream",
          "text": [
            "BLEU Score: 0.09520625399304872\n",
            "This BLEU score indicates a low level of overlap.\n",
            "\n",
            "METEOR Score: 0.33767660114289905\n",
            "This METEOR score indicates a moderate level of semantic similarity.\n",
            "\n",
            "ROUGE1 Score: 0.5545454545454545\n",
            "This ROUGE-1 score suggests good recall of important content.\n",
            "\n",
            "ROUGE2 Score: 0.13211845102505693\n",
            "This ROUGE-2 score suggests more work is needed on bigram recall.\n",
            "\n",
            "ROUGEL Score: 0.2863636363636363\n",
            "This ROUGEL score suggests poor sequence preservation.\n"
          ]
        }
      ],
      "source": [
        "print(f\"BLEU Score: {bleu_score}\")\n",
        "\n",
        "if bleu_score > 0.5:\n",
        "    print(\"This BLEU score indicates a high level of overlap.\")\n",
        "elif bleu_score > 0.3:\n",
        "    print(\"This BLEU score indicates a moderate level of overlap.\")\n",
        "else:\n",
        "    print(\"This BLEU score indicates a low level of overlap.\")\n",
        "\n",
        "\n",
        "print(f\"\\nMETEOR Score: {meteor}\")\n",
        "\n",
        "if meteor > 0.5:\n",
        "    print(\"This METEOR score indicates a high level of semantic similarity.\")\n",
        "elif meteor > 0.3:\n",
        "    print(\"This METEOR score indicates a moderate level of semantic similarity.\")\n",
        "else:\n",
        "    print(\"This METEOR score indicates a low level of semantic similarity.\")\n",
        "\n",
        "\n",
        "print(f\"\\nROUGE1 Score: {rouge['rouge1'].fmeasure}\")\n",
        "\n",
        "if rouge['rouge1'].fmeasure > 0.5:\n",
        "    print(\"This ROUGE-1 score suggests good recall of important content.\")\n",
        "else:\n",
        "    print(\"This ROUGE-1 score suggests the translation misses some key content.\")\n",
        "\n",
        "print(f\"\\nROUGE2 Score: {rouge['rouge2'].fmeasure}\")\n",
        "\n",
        "if rouge['rouge2'].fmeasure > 0.3:\n",
        "    print(\"This ROUGE-2 score indicates that some bigrams were preserved in the translation.\")\n",
        "else:\n",
        "    print(\"This ROUGE-2 score suggests more work is needed on bigram recall.\")\n",
        "\n",
        "\n",
        "print(f\"\\nROUGEL Score: {rouge['rougeL'].fmeasure}\")\n",
        "\n",
        "if rouge['rougeL'].fmeasure > 0.4:\n",
        "    print(\"This ROUGEL score indicates good sequence preservation in the translation.\")\n",
        "else:\n",
        "    print(\"This ROUGEL score suggests poor sequence preservation.\")\n"
      ]
    }
  ],
  "metadata": {
    "colab": {
      "provenance": []
    },
    "kernelspec": {
      "display_name": "Python 3",
      "name": "python3"
    },
    "language_info": {
      "name": "python",
      "version": "3.12.4"
    }
  },
  "nbformat": 4,
  "nbformat_minor": 0
}
